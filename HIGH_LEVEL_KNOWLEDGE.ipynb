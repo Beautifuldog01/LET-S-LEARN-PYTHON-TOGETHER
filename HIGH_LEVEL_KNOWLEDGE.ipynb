{
 "cells": [
  {
   "cell_type": "markdown",
   "metadata": {},
   "source": [
    "# FOLLOW MY STEP CLOSELY & I WILL EXPLAIN THE WHOLE PROCESS & I WILL USE EXAMPLES TO MAKE IT EASIER TO UNDERSTAND"
   ]
  },
  {
   "cell_type": "markdown",
   "metadata": {},
   "source": [
    "## Class Variable and Instance Variable"
   ]
  },
  {
   "cell_type": "code",
   "execution_count": 1,
   "metadata": {},
   "outputs": [
    {
     "name": "stdout",
     "output_type": "stream",
     "text": [
      "cqp\n",
      "True\n",
      "1\n",
      "1\n",
      "\n",
      "goldGOD\n",
      "False\n",
      "2\n",
      "2\n"
     ]
    }
   ],
   "source": [
    "\"\"\"\n",
    "Watch the difference between class variable and instance variable and how it works.\n",
    "\"\"\"\n",
    "\n",
    "\n",
    "class Student:\n",
    "    student_num = 0\n",
    "\n",
    "    def __init__(self, name, is_pig):\n",
    "        self.name = name\n",
    "        self.is_pig = is_pig\n",
    "        Student.student_num += 1\n",
    "\n",
    "\n",
    "cqp = Student(name=\"cqp\", is_pig=True)\n",
    "print(cqp.name, cqp.is_pig, cqp.student_num, Student.student_num, sep=\"\\n\")\n",
    "\n",
    "goldGOD = Student(name=\"goldGOD\", is_pig=False)\n",
    "print()\n",
    "print(goldGOD.name, goldGOD.is_pig, goldGOD.student_num, Student.student_num, sep=\"\\n\")"
   ]
  },
  {
   "cell_type": "code",
   "execution_count": 2,
   "metadata": {},
   "outputs": [
    {
     "name": "stdout",
     "output_type": "stream",
     "text": [
      "cqp\n",
      "True\n",
      "1\n",
      "0\n",
      "\n",
      "goldGOD\n",
      "False\n",
      "1\n",
      "0\n"
     ]
    }
   ],
   "source": [
    "# -*- coding: utf-8 -*-\n",
    "\"\"\"\n",
    "Maybe it is a wrong case here that we use self. to access class variable.\n",
    "We should use class name to access class variable more often.(MAYBE)\n",
    "\"\"\"\n",
    "\n",
    "\n",
    "class Student:\n",
    "    student_num = 0\n",
    "\n",
    "    def __init__(self, name, is_pig):\n",
    "        self.name = name\n",
    "        self.is_pig = is_pig\n",
    "        self.student_num += 1\n",
    "\n",
    "\n",
    "cqp = Student(name=\"cqp\", is_pig=True)\n",
    "print(cqp.name, cqp.is_pig, cqp.student_num, Student.student_num, sep=\"\\n\")\n",
    "\n",
    "goldGOD = Student(name=\"goldGOD\", is_pig=False)\n",
    "print()\n",
    "print(goldGOD.name, goldGOD.is_pig, goldGOD.student_num, Student.student_num, sep=\"\\n\")"
   ]
  },
  {
   "cell_type": "markdown",
   "metadata": {},
   "source": [
    "## NEXT part is about generator which is a very useful tool in python, but we already have the torch.utils.data.DataLoader right?"
   ]
  },
  {
   "cell_type": "code",
   "execution_count": null,
   "metadata": {},
   "outputs": [],
   "source": [
    "from torch.utils.data import Dataset, DataLoader\n",
    "# OK, DONE!!! LET'S move into next part."
   ]
  },
  {
   "cell_type": "code",
   "execution_count": 3,
   "metadata": {},
   "outputs": [
    {
     "name": "stdout",
     "output_type": "stream",
     "text": [
      "P\n",
      "PI\n",
      "PIG\n",
      "PIG1\n",
      "PIG2\n",
      "PIG3\n",
      "PIG4\n",
      "PIG5\n",
      "PIG6\n",
      "PIG7\n"
     ]
    }
   ],
   "source": [
    "# cqp CREATOR\n",
    "def pig_generator():\n",
    "    yield \"P\"\n",
    "    yield \"PI\"\n",
    "    yield \"PIG\"\n",
    "    i = 0\n",
    "    while True:\n",
    "        i += 1\n",
    "        yield f\"PIG{i}\"\n",
    "\n",
    "\n",
    "pig_gen = pig_generator()\n",
    "for _ in range(10):  # you will see how cqp is created.\n",
    "    print(next(pig_gen))"
   ]
  },
  {
   "cell_type": "code",
   "execution_count": 4,
   "metadata": {},
   "outputs": [
    {
     "data": {
      "text/plain": [
       "3"
      ]
     },
     "execution_count": 4,
     "metadata": {},
     "output_type": "execute_result"
    }
   ],
   "source": [
    "# Next I will show a really nice example of how to use generator to create a random number generator.\n",
    "\n",
    "import random\n",
    "\n",
    "ran_num_gen = (random.choice([i for i in range(10)]) for _ in range(100000))\n",
    "next(ran_num_gen)"
   ]
  },
  {
   "cell_type": "code",
   "execution_count": null,
   "metadata": {},
   "outputs": [
    {
     "name": "stdout",
     "output_type": "stream",
     "text": [
      "[0, 1, 2, 3, 4, 5, 6, 7, 8, 9]\n",
      "猪蛋变魔术\n",
      "0\n"
     ]
    }
   ],
   "source": [
    "print([i for i in range(10)])\n",
    "print(\"猪蛋变魔术\")\n",
    "print(i for i in range(10))"
   ]
  }
 ],
 "metadata": {
  "kernelspec": {
   "display_name": "py312tc25",
   "language": "python",
   "name": "python3"
  },
  "language_info": {
   "codemirror_mode": {
    "name": "ipython",
    "version": 3
   },
   "file_extension": ".py",
   "mimetype": "text/x-python",
   "name": "python",
   "nbconvert_exporter": "python",
   "pygments_lexer": "ipython3",
   "version": "3.12.8"
  }
 },
 "nbformat": 4,
 "nbformat_minor": 2
}
