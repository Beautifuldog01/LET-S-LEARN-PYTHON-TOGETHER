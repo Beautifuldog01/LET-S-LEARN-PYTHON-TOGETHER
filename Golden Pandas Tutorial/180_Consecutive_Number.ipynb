{
 "cells": [
  {
   "cell_type": "markdown",
   "id": "54e199ec",
   "metadata": {},
   "source": [
    "| Column Name | Type    |\n",
    "|-------------|---------|\n",
    "| id          | int     |\n",
    "| num         | varchar |\n",
    "\n",
    "In SQL, id is the primary key for this table.  \n",
    "id is an autoincrement column starting from 1.  \n",
    "\n",
    "Find all numbers that appear at least three times consecutively.  \n",
    "\n",
    "Return the result table in any order.  \n",
    "\n",
    "The result format is in the following example.  \n",
    "\n",
    "**Example 1:**  \n",
    "\n",
    "Input:  \n",
    "`Logs` table:  \n",
    "\n",
    "| id | num |\n",
    "|----|-----|\n",
    "| 1  | 1   |\n",
    "| 2  | 1   |\n",
    "| 3  | 1   |\n",
    "| 4  | 2   |\n",
    "| 5  | 1   |\n",
    "| 6  | 2   |\n",
    "| 7  | 2   |\n",
    "\n",
    "Output:  \n",
    "\n",
    "| ConsecutiveNums |\n",
    "|-----------------|\n",
    "| 1               |\n",
    "\n",
    "**Explanation:** 1 is the only number that appears consecutively for at least three times."
   ]
  },
  {
   "cell_type": "code",
   "execution_count": 1,
   "id": "5db91a02",
   "metadata": {},
   "outputs": [],
   "source": [
    "import pandas as pd\n",
    "\n",
    "def consecutive_numbers(df: pd.DataFrame) -> pd.DataFrame:\n",
    "    df['group'] = (df['num'] != df['num'].shift()).fillna(False).cumsum()\n",
    "    df = df.groupby(['num','group']).filter(lambda df: len(df) >= 3)\n",
    "    return pd.DataFrame({'ConsecutiveNums': df['num'].unique()})"
   ]
  },
  {
   "cell_type": "code",
   "execution_count": 2,
   "id": "5d80f402",
   "metadata": {},
   "outputs": [
    {
     "data": {
      "application/vnd.microsoft.datawrangler.viewer.v0+json": {
       "columns": [
        {
         "name": "index",
         "rawType": "int64",
         "type": "integer"
        },
        {
         "name": "ConsecutiveNums",
         "rawType": "int64",
         "type": "integer"
        }
       ],
       "conversionMethod": "pd.DataFrame",
       "ref": "1abc8bf3-4ad2-4dd5-bc68-668757a38e87",
       "rows": [
        [
         "0",
         "1"
        ]
       ],
       "shape": {
        "columns": 1,
        "rows": 1
       }
      },
      "text/html": [
       "<div>\n",
       "<style scoped>\n",
       "    .dataframe tbody tr th:only-of-type {\n",
       "        vertical-align: middle;\n",
       "    }\n",
       "\n",
       "    .dataframe tbody tr th {\n",
       "        vertical-align: top;\n",
       "    }\n",
       "\n",
       "    .dataframe thead th {\n",
       "        text-align: right;\n",
       "    }\n",
       "</style>\n",
       "<table border=\"1\" class=\"dataframe\">\n",
       "  <thead>\n",
       "    <tr style=\"text-align: right;\">\n",
       "      <th></th>\n",
       "      <th>ConsecutiveNums</th>\n",
       "    </tr>\n",
       "  </thead>\n",
       "  <tbody>\n",
       "    <tr>\n",
       "      <th>0</th>\n",
       "      <td>1</td>\n",
       "    </tr>\n",
       "  </tbody>\n",
       "</table>\n",
       "</div>"
      ],
      "text/plain": [
       "   ConsecutiveNums\n",
       "0                1"
      ]
     },
     "execution_count": 2,
     "metadata": {},
     "output_type": "execute_result"
    }
   ],
   "source": [
    "test_1 = pd.DataFrame({\"id\": [1, 2, 3, 4, 5, 6, 7], \"num\": [2, 1, 1, 1, 1, 2, 2]})\n",
    "consecutive_numbers(test_1)"
   ]
  }
 ],
 "metadata": {
  "kernelspec": {
   "display_name": "py312tc25",
   "language": "python",
   "name": "python3"
  },
  "language_info": {
   "codemirror_mode": {
    "name": "ipython",
    "version": 3
   },
   "file_extension": ".py",
   "mimetype": "text/x-python",
   "name": "python",
   "nbconvert_exporter": "python",
   "pygments_lexer": "ipython3",
   "version": "3.12.8"
  }
 },
 "nbformat": 4,
 "nbformat_minor": 5
}
